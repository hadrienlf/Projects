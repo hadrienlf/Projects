{
 "cells": [
  {
   "cell_type": "code",
   "execution_count": 131,
   "id": "ab9358d9-b268-4e1a-ad96-526b5b967d11",
   "metadata": {},
   "outputs": [],
   "source": [
    "path = 'C://Users//Mi//Documents//Projets Python//Kaggle//client segmentation//'"
   ]
  },
  {
   "cell_type": "code",
   "execution_count": 132,
   "id": "cb9e7efb-dd0e-4ef2-96bf-f559f2340102",
   "metadata": {},
   "outputs": [],
   "source": [
    "import numpy as np\n",
    "import matplotlib.pyplot as plt\n",
    "import pandas as pd\n",
    "import seaborn as sn"
   ]
  },
  {
   "cell_type": "markdown",
   "id": "6cc98cb9-1b94-4af1-8e2a-d8bc4bf6083a",
   "metadata": {},
   "source": [
    "Le but de ce Notebook est de catégoriser les clients d'un centre commercial en fonction du peu d'informations dont on dispose sur eux (Sexe, Age, Revenus annuels, un Score de dépense).\n",
    "Mon but est de trouver des classes intéressantes d'un point de vue ciblage publicitaire. Mon objectif est de trouver des classes les plus homogènes possibles et leurs caractéristiques."
   ]
  },
  {
   "cell_type": "markdown",
   "id": "aeb1702b-405d-461b-8e17-b308740fae58",
   "metadata": {},
   "source": [
    "'Spending Score' est relatif aux achats du clients et a son comportement dans le centre commercial."
   ]
  },
  {
   "cell_type": "markdown",
   "id": "a12a5f97-9a7c-478b-b5dd-7722b0bfb8c4",
   "metadata": {},
   "source": [
    "# Introduction"
   ]
  },
  {
   "cell_type": "code",
   "execution_count": 133,
   "id": "da878b5c-0654-4025-bc08-10ce860002cf",
   "metadata": {},
   "outputs": [
    {
     "data": {
      "text/html": [
       "<div>\n",
       "<style scoped>\n",
       "    .dataframe tbody tr th:only-of-type {\n",
       "        vertical-align: middle;\n",
       "    }\n",
       "\n",
       "    .dataframe tbody tr th {\n",
       "        vertical-align: top;\n",
       "    }\n",
       "\n",
       "    .dataframe thead th {\n",
       "        text-align: right;\n",
       "    }\n",
       "</style>\n",
       "<table border=\"1\" class=\"dataframe\">\n",
       "  <thead>\n",
       "    <tr style=\"text-align: right;\">\n",
       "      <th></th>\n",
       "      <th>CustomerID</th>\n",
       "      <th>Gender</th>\n",
       "      <th>Age</th>\n",
       "      <th>Annual Income (k$)</th>\n",
       "      <th>Spending Score (1-100)</th>\n",
       "    </tr>\n",
       "  </thead>\n",
       "  <tbody>\n",
       "    <tr>\n",
       "      <th>0</th>\n",
       "      <td>1</td>\n",
       "      <td>Male</td>\n",
       "      <td>19</td>\n",
       "      <td>15</td>\n",
       "      <td>39</td>\n",
       "    </tr>\n",
       "    <tr>\n",
       "      <th>1</th>\n",
       "      <td>2</td>\n",
       "      <td>Male</td>\n",
       "      <td>21</td>\n",
       "      <td>15</td>\n",
       "      <td>81</td>\n",
       "    </tr>\n",
       "    <tr>\n",
       "      <th>2</th>\n",
       "      <td>3</td>\n",
       "      <td>Female</td>\n",
       "      <td>20</td>\n",
       "      <td>16</td>\n",
       "      <td>6</td>\n",
       "    </tr>\n",
       "  </tbody>\n",
       "</table>\n",
       "</div>"
      ],
      "text/plain": [
       "   CustomerID  Gender  Age  Annual Income (k$)  Spending Score (1-100)\n",
       "0           1    Male   19                  15                      39\n",
       "1           2    Male   21                  15                      81\n",
       "2           3  Female   20                  16                       6"
      ]
     },
     "execution_count": 133,
     "metadata": {},
     "output_type": "execute_result"
    }
   ],
   "source": [
    "data = pd.read_csv(path+'Mall_Customers.csv')\n",
    "df = pd.read_csv(path+'Mall_Customers.csv')\n",
    "data.head(3)"
   ]
  },
  {
   "cell_type": "code",
   "execution_count": 134,
   "id": "232511e9-5a18-4c95-a5c1-271ac3ef010a",
   "metadata": {},
   "outputs": [
    {
     "data": {
      "text/plain": [
       "CustomerID                 int64\n",
       "Gender                    object\n",
       "Age                        int64\n",
       "Annual Income (k$)         int64\n",
       "Spending Score (1-100)     int64\n",
       "dtype: object"
      ]
     },
     "execution_count": 134,
     "metadata": {},
     "output_type": "execute_result"
    }
   ],
   "source": [
    "df.dtypes"
   ]
  },
  {
   "cell_type": "code",
   "execution_count": 135,
   "id": "55e110b1-239c-4812-a408-f22091090e3f",
   "metadata": {},
   "outputs": [],
   "source": [
    "from sklearn.preprocessing import LabelEncoder\n",
    "le = LabelEncoder()\n",
    "df['Gender'] = le.fit_transform(df['Gender'])   #1=Male et 0=Female"
   ]
  },
  {
   "cell_type": "code",
   "execution_count": 136,
   "id": "ecf5b4ff-f2ea-4130-95e0-57efc5ba6be3",
   "metadata": {},
   "outputs": [
    {
     "data": {
      "text/html": [
       "<div>\n",
       "<style scoped>\n",
       "    .dataframe tbody tr th:only-of-type {\n",
       "        vertical-align: middle;\n",
       "    }\n",
       "\n",
       "    .dataframe tbody tr th {\n",
       "        vertical-align: top;\n",
       "    }\n",
       "\n",
       "    .dataframe thead th {\n",
       "        text-align: right;\n",
       "    }\n",
       "</style>\n",
       "<table border=\"1\" class=\"dataframe\">\n",
       "  <thead>\n",
       "    <tr style=\"text-align: right;\">\n",
       "      <th></th>\n",
       "      <th>CustomerID</th>\n",
       "      <th>Gender</th>\n",
       "      <th>Age</th>\n",
       "      <th>Annual Income (k$)</th>\n",
       "      <th>Spending Score (1-100)</th>\n",
       "    </tr>\n",
       "  </thead>\n",
       "  <tbody>\n",
       "    <tr>\n",
       "      <th>0</th>\n",
       "      <td>1</td>\n",
       "      <td>1</td>\n",
       "      <td>19</td>\n",
       "      <td>15</td>\n",
       "      <td>39</td>\n",
       "    </tr>\n",
       "    <tr>\n",
       "      <th>1</th>\n",
       "      <td>2</td>\n",
       "      <td>1</td>\n",
       "      <td>21</td>\n",
       "      <td>15</td>\n",
       "      <td>81</td>\n",
       "    </tr>\n",
       "    <tr>\n",
       "      <th>2</th>\n",
       "      <td>3</td>\n",
       "      <td>0</td>\n",
       "      <td>20</td>\n",
       "      <td>16</td>\n",
       "      <td>6</td>\n",
       "    </tr>\n",
       "  </tbody>\n",
       "</table>\n",
       "</div>"
      ],
      "text/plain": [
       "   CustomerID  Gender  Age  Annual Income (k$)  Spending Score (1-100)\n",
       "0           1       1   19                  15                      39\n",
       "1           2       1   21                  15                      81\n",
       "2           3       0   20                  16                       6"
      ]
     },
     "execution_count": 136,
     "metadata": {},
     "output_type": "execute_result"
    }
   ],
   "source": [
    "df.head(3)"
   ]
  },
  {
   "cell_type": "markdown",
   "id": "b5e15111-af3a-44dc-9317-f0b38cb93d2f",
   "metadata": {},
   "source": [
    "# Premieres observations"
   ]
  },
  {
   "cell_type": "code",
   "execution_count": 137,
   "id": "11a2bc74-341b-4df6-ba33-64270d604284",
   "metadata": {},
   "outputs": [
    {
     "data": {
      "text/html": [
       "<div>\n",
       "<style scoped>\n",
       "    .dataframe tbody tr th:only-of-type {\n",
       "        vertical-align: middle;\n",
       "    }\n",
       "\n",
       "    .dataframe tbody tr th {\n",
       "        vertical-align: top;\n",
       "    }\n",
       "\n",
       "    .dataframe thead th {\n",
       "        text-align: right;\n",
       "    }\n",
       "</style>\n",
       "<table border=\"1\" class=\"dataframe\">\n",
       "  <thead>\n",
       "    <tr style=\"text-align: right;\">\n",
       "      <th></th>\n",
       "      <th>index</th>\n",
       "      <th>0</th>\n",
       "    </tr>\n",
       "  </thead>\n",
       "  <tbody>\n",
       "    <tr>\n",
       "      <th>0</th>\n",
       "      <td>CustomerID</td>\n",
       "      <td>0</td>\n",
       "    </tr>\n",
       "    <tr>\n",
       "      <th>1</th>\n",
       "      <td>Gender</td>\n",
       "      <td>0</td>\n",
       "    </tr>\n",
       "    <tr>\n",
       "      <th>2</th>\n",
       "      <td>Age</td>\n",
       "      <td>0</td>\n",
       "    </tr>\n",
       "    <tr>\n",
       "      <th>3</th>\n",
       "      <td>Annual Income (k$)</td>\n",
       "      <td>0</td>\n",
       "    </tr>\n",
       "    <tr>\n",
       "      <th>4</th>\n",
       "      <td>Spending Score (1-100)</td>\n",
       "      <td>0</td>\n",
       "    </tr>\n",
       "  </tbody>\n",
       "</table>\n",
       "</div>"
      ],
      "text/plain": [
       "                    index  0\n",
       "0              CustomerID  0\n",
       "1                  Gender  0\n",
       "2                     Age  0\n",
       "3      Annual Income (k$)  0\n",
       "4  Spending Score (1-100)  0"
      ]
     },
     "execution_count": 137,
     "metadata": {},
     "output_type": "execute_result"
    }
   ],
   "source": [
    "df.isnull().sum(axis=0).reset_index()"
   ]
  },
  {
   "cell_type": "code",
   "execution_count": 138,
   "id": "fc3eaceb-b016-4a66-9b51-309b8e33595a",
   "metadata": {},
   "outputs": [
    {
     "name": "stderr",
     "output_type": "stream",
     "text": [
      "C:\\ProgramData\\Anaconda3\\lib\\site-packages\\seaborn\\_decorators.py:36: FutureWarning: Pass the following variables as keyword args: x, y. From version 0.12, the only valid positional argument will be `data`, and passing other arguments without an explicit keyword will result in an error or misinterpretation.\n",
      "  warnings.warn(\n"
     ]
    },
    {
     "data": {
      "image/png": "[encoded data removed]",
      "text/plain": [
       "<Figure size 432x288 with 1 Axes>"
      ]
     },
     "metadata": {
      "needs_background": "light"
     },
     "output_type": "display_data"
    }
   ],
   "source": [
    "ax = sn.boxplot(data['Age'],data['Gender'])"
   ]
  },
  {
   "cell_type": "code",
   "execution_count": 139,
   "id": "994262f4-f536-46d1-a2ba-c929c38764c4",
   "metadata": {},
   "outputs": [
    {
     "data": {
      "image/png": "[encoded data removed]",
      "text/plain": [
       "<Figure size 432x288 with 1 Axes>"
      ]
     },
     "metadata": {
      "needs_background": "light"
     },
     "output_type": "display_data"
    }
   ],
   "source": [
    "df['groupes'] = pd.cut(df[target], bins=[0, 20, 40, 60, 80, 100]).cat.codes\n",
    "ax = sn.histplot( x='groupes', data=df).set(title='Repartition par groupe')"
   ]
  },
  {
   "cell_type": "code",
   "execution_count": 140,
   "id": "a5ece109-9965-45b4-a74a-edb03193de6c",
   "metadata": {},
   "outputs": [
    {
     "data": {
      "text/plain": [
       "<AxesSubplot:>"
      ]
     },
     "execution_count": 140,
     "metadata": {},
     "output_type": "execute_result"
    },
    {
     "data": {
      "image/png": "[encoded data removed]",
      "text/plain": [
       "<Figure size 720x720 with 2 Axes>"
      ]
     },
     "metadata": {
      "needs_background": "light"
     },
     "output_type": "display_data"
    }
   ],
   "source": [
    "corr = df.corr(method = 'pearson')\n",
    "fig, ax = plt.subplots(figsize = (10,10))\n",
    "mask = np.triu(np.ones_like(corr, dtype=bool)) #mask upper triangle\n",
    "sn.heatmap(corr, mask=mask, vmax = 0.9, cmap='BuGn', square = True, annot = True, linewidths=.5, cbar_kws={\"shrink\": .7})"
   ]
  },
  {
   "cell_type": "markdown",
   "id": "6c38ab15-2641-4e37-891e-491a20acd839",
   "metadata": {},
   "source": [
    "# Clustering kmeans"
   ]
  },
  {
   "cell_type": "code",
   "execution_count": 144,
   "id": "65d3101f-135e-4ef9-af17-06929ff5b269",
   "metadata": {},
   "outputs": [
    {
     "name": "stderr",
     "output_type": "stream",
     "text": [
      "C:\\ProgramData\\Anaconda3\\lib\\site-packages\\sklearn\\cluster\\_kmeans.py:881: UserWarning: KMeans is known to have a memory leak on Windows with MKL, when there are less chunks than available threads. You can avoid it by setting the environment variable OMP_NUM_THREADS=1.\n",
      "  warnings.warn(\n"
     ]
    },
    {
     "data": {
      "image/png": "[encoded data removed]",
      "text/plain": [
       "<Figure size 432x288 with 1 Axes>"
      ]
     },
     "metadata": {
      "needs_background": "light"
     },
     "output_type": "display_data"
    }
   ],
   "source": [
    "import random\n",
    "random.seed(1)\n",
    "\n",
    "from sklearn.cluster import KMeans\n",
    "sse = {}\n",
    "for k in range(1, 10):\n",
    "    kmeans = KMeans(n_clusters=k, max_iter=1000, init='k-means++').fit(df)\n",
    "    df[\"clusters\"] = kmeans.labels_\n",
    "    sse[k] = kmeans.inertia_\n",
    "    \n",
    "plt.figure()\n",
    "plt.plot(list(sse.keys()), list(sse.values()))\n",
    "plt.xlabel(\"Number of cluster\")\n",
    "plt.ylabel(\"SSE\")\n",
    "plt.show()"
   ]
  },
  {
   "cell_type": "markdown",
   "id": "822bf767-38f2-43d0-b0a4-253e1a84461a",
   "metadata": {},
   "source": [
    "On considere 4 clusters distincts."
   ]
  },
  {
   "cell_type": "code",
   "execution_count": 153,
   "id": "c70560fd-718e-4c3e-9d22-7447e8fc8218",
   "metadata": {},
   "outputs": [],
   "source": [
    "random.seed(1)\n",
    "kmeans = KMeans(n_clusters=4, max_iter=1000, init='k-means++').fit(df)\n",
    "df['clusters'] = kmeans.predict(df)"
   ]
  },
  {
   "cell_type": "code",
   "execution_count": 154,
   "id": "b288019d-b311-473f-89d7-e06ac23cbc7d",
   "metadata": {},
   "outputs": [
    {
     "data": {
      "image/png": "[encoded data removed]",
      "text/plain": [
       "<Figure size 432x432 with 1 Axes>"
      ]
     },
     "metadata": {
      "needs_background": "light"
     },
     "output_type": "display_data"
    }
   ],
   "source": [
    "import prince\n",
    "\n",
    "coll = clusters\n",
    "pca = prince.PCA(n_components=2, random_state=0).fit(df)\n",
    "ax = pca.plot_row_coordinates(df, ax=None, figsize=(6, 6), x_component=0, y_component=1, labels=None, color_labels=df['clusters'], ellipse_outline=False, ellipse_fill=False, show_points=True)\n"
   ]
  },
  {
   "cell_type": "markdown",
   "id": "677986a9-6a29-4f56-9a65-75766dc876d7",
   "metadata": {},
   "source": [
    "# Etude des groupes"
   ]
  },
  {
   "cell_type": "markdown",
   "id": "b225adec-b753-4ba6-9f38-138b617afb3a",
   "metadata": {},
   "source": [
    "## Etude des variables Age et Sexe"
   ]
  },
  {
   "cell_type": "code",
   "execution_count": 155,
   "id": "45390be7-723c-420f-8e4e-11686c751ba7",
   "metadata": {},
   "outputs": [
    {
     "name": "stderr",
     "output_type": "stream",
     "text": [
      "C:\\Users\\Mi\\AppData\\Local\\Temp/ipykernel_21676/177684011.py:1: FutureWarning: Indexing with multiple keys (implicitly converted to a tuple of keys) will be deprecated, use a list instead.\n",
      "  df.groupby(['clusters'])['Age','Gender'].describe(percentiles=[0.5])\n"
     ]
    },
    {
     "data": {
      "text/html": [
       "<div>\n",
       "<style scoped>\n",
       "    .dataframe tbody tr th:only-of-type {\n",
       "        vertical-align: middle;\n",
       "    }\n",
       "\n",
       "    .dataframe tbody tr th {\n",
       "        vertical-align: top;\n",
       "    }\n",
       "\n",
       "    .dataframe thead tr th {\n",
       "        text-align: left;\n",
       "    }\n",
       "\n",
       "    .dataframe thead tr:last-of-type th {\n",
       "        text-align: right;\n",
       "    }\n",
       "</style>\n",
       "<table border=\"1\" class=\"dataframe\">\n",
       "  <thead>\n",
       "    <tr>\n",
       "      <th></th>\n",
       "      <th colspan=\"6\" halign=\"left\">Age</th>\n",
       "      <th colspan=\"6\" halign=\"left\">Gender</th>\n",
       "    </tr>\n",
       "    <tr>\n",
       "      <th></th>\n",
       "      <th>count</th>\n",
       "      <th>mean</th>\n",
       "      <th>std</th>\n",
       "      <th>min</th>\n",
       "      <th>50%</th>\n",
       "      <th>max</th>\n",
       "      <th>count</th>\n",
       "      <th>mean</th>\n",
       "      <th>std</th>\n",
       "      <th>min</th>\n",
       "      <th>50%</th>\n",
       "      <th>max</th>\n",
       "    </tr>\n",
       "    <tr>\n",
       "      <th>clusters</th>\n",
       "      <th></th>\n",
       "      <th></th>\n",
       "      <th></th>\n",
       "      <th></th>\n",
       "      <th></th>\n",
       "      <th></th>\n",
       "      <th></th>\n",
       "      <th></th>\n",
       "      <th></th>\n",
       "      <th></th>\n",
       "      <th></th>\n",
       "      <th></th>\n",
       "    </tr>\n",
       "  </thead>\n",
       "  <tbody>\n",
       "    <tr>\n",
       "      <th>0</th>\n",
       "      <td>39.0</td>\n",
       "      <td>32.692308</td>\n",
       "      <td>3.728650</td>\n",
       "      <td>27.0</td>\n",
       "      <td>32.0</td>\n",
       "      <td>40.0</td>\n",
       "      <td>39.0</td>\n",
       "      <td>0.461538</td>\n",
       "      <td>0.505035</td>\n",
       "      <td>0.0</td>\n",
       "      <td>0.0</td>\n",
       "      <td>1.0</td>\n",
       "    </tr>\n",
       "    <tr>\n",
       "      <th>1</th>\n",
       "      <td>66.0</td>\n",
       "      <td>43.878788</td>\n",
       "      <td>17.170202</td>\n",
       "      <td>18.0</td>\n",
       "      <td>47.0</td>\n",
       "      <td>70.0</td>\n",
       "      <td>66.0</td>\n",
       "      <td>0.439394</td>\n",
       "      <td>0.500117</td>\n",
       "      <td>0.0</td>\n",
       "      <td>0.0</td>\n",
       "      <td>1.0</td>\n",
       "    </tr>\n",
       "    <tr>\n",
       "      <th>2</th>\n",
       "      <td>36.0</td>\n",
       "      <td>40.805556</td>\n",
       "      <td>11.305674</td>\n",
       "      <td>19.0</td>\n",
       "      <td>41.5</td>\n",
       "      <td>59.0</td>\n",
       "      <td>36.0</td>\n",
       "      <td>0.527778</td>\n",
       "      <td>0.506309</td>\n",
       "      <td>0.0</td>\n",
       "      <td>1.0</td>\n",
       "      <td>1.0</td>\n",
       "    </tr>\n",
       "    <tr>\n",
       "      <th>3</th>\n",
       "      <td>59.0</td>\n",
       "      <td>36.101695</td>\n",
       "      <td>13.731031</td>\n",
       "      <td>18.0</td>\n",
       "      <td>33.0</td>\n",
       "      <td>67.0</td>\n",
       "      <td>59.0</td>\n",
       "      <td>0.372881</td>\n",
       "      <td>0.487722</td>\n",
       "      <td>0.0</td>\n",
       "      <td>0.0</td>\n",
       "      <td>1.0</td>\n",
       "    </tr>\n",
       "  </tbody>\n",
       "</table>\n",
       "</div>"
      ],
      "text/plain": [
       "           Age                                         Gender            \\\n",
       "         count       mean        std   min   50%   max  count      mean   \n",
       "clusters                                                                  \n",
       "0         39.0  32.692308   3.728650  27.0  32.0  40.0   39.0  0.461538   \n",
       "1         66.0  43.878788  17.170202  18.0  47.0  70.0   66.0  0.439394   \n",
       "2         36.0  40.805556  11.305674  19.0  41.5  59.0   36.0  0.527778   \n",
       "3         59.0  36.101695  13.731031  18.0  33.0  67.0   59.0  0.372881   \n",
       "\n",
       "                                   \n",
       "               std  min  50%  max  \n",
       "clusters                           \n",
       "0         0.505035  0.0  0.0  1.0  \n",
       "1         0.500117  0.0  0.0  1.0  \n",
       "2         0.506309  0.0  1.0  1.0  \n",
       "3         0.487722  0.0  0.0  1.0  "
      ]
     },
     "execution_count": 155,
     "metadata": {},
     "output_type": "execute_result"
    }
   ],
   "source": [
    "df.groupby(['clusters'])['Age','Gender'].describe(percentiles=[0.5])"
   ]
  },
  {
   "cell_type": "markdown",
   "id": "012180a2-292d-4bad-b6a4-7e9d9141e6f6",
   "metadata": {},
   "source": [
    "Pour l'age, on voit que le seul cluster qui sort du lot est le cluster 0. Il semble que ca soit une classe de jeunes adultes (entre 27 et 40 ans). Les autres clusters sont moins homogenes niveau age. Le cluster 3 semble quand meme un peu plus jeune en moyenne que les cluster 1 et 2. \\\n",
    "Pour les sexes, on voit que les groupes sont assez semblables. Le groupe 3 semble quand meme un peu plus represente par des individus de sexe feminin."
   ]
  },
  {
   "cell_type": "code",
   "execution_count": 175,
   "id": "df91093e-2413-4010-bdf7-ddf63762105e",
   "metadata": {},
   "outputs": [
    {
     "data": {
      "image/png": "[encoded data removed]",
      "text/plain": [
       "<Figure size 360x1080 with 4 Axes>"
      ]
     },
     "metadata": {
      "needs_background": "light"
     },
     "output_type": "display_data"
    }
   ],
   "source": [
    "plt.figure(figsize=(5,15))\n",
    "for i in range(4):\n",
    "    plt.subplot(4, 1, i+1)\n",
    "    plt.hist(data[df['clusters']==i]['Gender'],align='mid',bins=2)\n",
    "    plt.title(\"cluster \"+str(i))\n",
    "plt.show()"
   ]
  },
  {
   "cell_type": "markdown",
   "id": "f53e2547-76ce-45eb-9640-2db499ecd49d",
   "metadata": {},
   "source": [
    "On a bien le cluster 3 qui a une difference de repartition entre les individus de sexe Feminin et de sexe Masculin."
   ]
  },
  {
   "cell_type": "markdown",
   "id": "9a492037-2b00-4b70-b90e-4c562004945d",
   "metadata": {},
   "source": [
    "## Etude des variables Depenses et Revenus"
   ]
  },
  {
   "cell_type": "code",
   "execution_count": 176,
   "id": "5751faee-0ce7-4ab4-8534-05cc9e25f91e",
   "metadata": {},
   "outputs": [
    {
     "name": "stderr",
     "output_type": "stream",
     "text": [
      "C:\\Users\\Mi\\AppData\\Local\\Temp/ipykernel_21676/171803365.py:1: FutureWarning: Indexing with multiple keys (implicitly converted to a tuple of keys) will be deprecated, use a list instead.\n",
      "  df.groupby(['clusters'])['Spending Score (1-100)','Annual Income (k$)'].describe(percentiles=[0.5])\n"
     ]
    },
    {
     "data": {
      "text/html": [
       "<div>\n",
       "<style scoped>\n",
       "    .dataframe tbody tr th:only-of-type {\n",
       "        vertical-align: middle;\n",
       "    }\n",
       "\n",
       "    .dataframe tbody tr th {\n",
       "        vertical-align: top;\n",
       "    }\n",
       "\n",
       "    .dataframe thead tr th {\n",
       "        text-align: left;\n",
       "    }\n",
       "\n",
       "    .dataframe thead tr:last-of-type th {\n",
       "        text-align: right;\n",
       "    }\n",
       "</style>\n",
       "<table border=\"1\" class=\"dataframe\">\n",
       "  <thead>\n",
       "    <tr>\n",
       "      <th></th>\n",
       "      <th colspan=\"6\" halign=\"left\">Spending Score (1-100)</th>\n",
       "      <th colspan=\"6\" halign=\"left\">Annual Income (k$)</th>\n",
       "    </tr>\n",
       "    <tr>\n",
       "      <th></th>\n",
       "      <th>count</th>\n",
       "      <th>mean</th>\n",
       "      <th>std</th>\n",
       "      <th>min</th>\n",
       "      <th>50%</th>\n",
       "      <th>max</th>\n",
       "      <th>count</th>\n",
       "      <th>mean</th>\n",
       "      <th>std</th>\n",
       "      <th>min</th>\n",
       "      <th>50%</th>\n",
       "      <th>max</th>\n",
       "    </tr>\n",
       "    <tr>\n",
       "      <th>clusters</th>\n",
       "      <th></th>\n",
       "      <th></th>\n",
       "      <th></th>\n",
       "      <th></th>\n",
       "      <th></th>\n",
       "      <th></th>\n",
       "      <th></th>\n",
       "      <th></th>\n",
       "      <th></th>\n",
       "      <th></th>\n",
       "      <th></th>\n",
       "      <th></th>\n",
       "    </tr>\n",
       "  </thead>\n",
       "  <tbody>\n",
       "    <tr>\n",
       "      <th>0</th>\n",
       "      <td>39.0</td>\n",
       "      <td>82.128205</td>\n",
       "      <td>9.364489</td>\n",
       "      <td>63.0</td>\n",
       "      <td>83.0</td>\n",
       "      <td>97.0</td>\n",
       "      <td>39.0</td>\n",
       "      <td>86.538462</td>\n",
       "      <td>16.312485</td>\n",
       "      <td>69.0</td>\n",
       "      <td>79.0</td>\n",
       "      <td>137.0</td>\n",
       "    </tr>\n",
       "    <tr>\n",
       "      <th>1</th>\n",
       "      <td>66.0</td>\n",
       "      <td>49.257576</td>\n",
       "      <td>6.615391</td>\n",
       "      <td>29.0</td>\n",
       "      <td>49.0</td>\n",
       "      <td>60.0</td>\n",
       "      <td>66.0</td>\n",
       "      <td>57.727273</td>\n",
       "      <td>6.929414</td>\n",
       "      <td>44.0</td>\n",
       "      <td>59.5</td>\n",
       "      <td>71.0</td>\n",
       "    </tr>\n",
       "    <tr>\n",
       "      <th>2</th>\n",
       "      <td>36.0</td>\n",
       "      <td>17.888889</td>\n",
       "      <td>10.708549</td>\n",
       "      <td>1.0</td>\n",
       "      <td>16.0</td>\n",
       "      <td>40.0</td>\n",
       "      <td>36.0</td>\n",
       "      <td>87.916667</td>\n",
       "      <td>16.231143</td>\n",
       "      <td>71.0</td>\n",
       "      <td>83.0</td>\n",
       "      <td>137.0</td>\n",
       "    </tr>\n",
       "    <tr>\n",
       "      <th>3</th>\n",
       "      <td>59.0</td>\n",
       "      <td>49.864407</td>\n",
       "      <td>27.887371</td>\n",
       "      <td>3.0</td>\n",
       "      <td>51.0</td>\n",
       "      <td>99.0</td>\n",
       "      <td>59.0</td>\n",
       "      <td>29.864407</td>\n",
       "      <td>9.685499</td>\n",
       "      <td>15.0</td>\n",
       "      <td>29.0</td>\n",
       "      <td>46.0</td>\n",
       "    </tr>\n",
       "  </tbody>\n",
       "</table>\n",
       "</div>"
      ],
      "text/plain": [
       "         Spending Score (1-100)                                          \\\n",
       "                          count       mean        std   min   50%   max   \n",
       "clusters                                                                  \n",
       "0                          39.0  82.128205   9.364489  63.0  83.0  97.0   \n",
       "1                          66.0  49.257576   6.615391  29.0  49.0  60.0   \n",
       "2                          36.0  17.888889  10.708549   1.0  16.0  40.0   \n",
       "3                          59.0  49.864407  27.887371   3.0  51.0  99.0   \n",
       "\n",
       "         Annual Income (k$)                                           \n",
       "                      count       mean        std   min   50%    max  \n",
       "clusters                                                              \n",
       "0                      39.0  86.538462  16.312485  69.0  79.0  137.0  \n",
       "1                      66.0  57.727273   6.929414  44.0  59.5   71.0  \n",
       "2                      36.0  87.916667  16.231143  71.0  83.0  137.0  \n",
       "3                      59.0  29.864407   9.685499  15.0  29.0   46.0  "
      ]
     },
     "execution_count": 176,
     "metadata": {},
     "output_type": "execute_result"
    }
   ],
   "source": [
    "df.groupby(['clusters'])['Spending Score (1-100)','Annual Income (k$)'].describe(percentiles=[0.5])"
   ]
  },
  {
   "cell_type": "markdown",
   "id": "5452d98e-058b-4765-938f-003016b0782b",
   "metadata": {},
   "source": [
    "Le cluster 0 represente les individus de haut 'Spending Score' et ayant des revenus annuels eleves. \\\n",
    "Le cluster 1 represente les individus de 'Spending Score' moyens et de revenus annuels moyens. \\\n",
    "Le cluster 2 represente les individus de faible 'Spending Score' mais de revenus annuels eleves. \\\n",
    "Le cluster 3 represente les individus de 'Spending Score' moyens et ayant de faibles revenus annuels. "
   ]
  },
  {
   "cell_type": "code",
   "execution_count": 177,
   "id": "29233af3-a6ab-4e68-b2a5-9c4d6346d5da",
   "metadata": {},
   "outputs": [
    {
     "name": "stdout",
     "output_type": "stream",
     "text": [
      "Les moyennes Depenses/Revenus par cluster: clusters\n",
      "0    0.949037\n",
      "1    0.853281\n",
      "2    0.203476\n",
      "3    1.669694\n",
      "dtype: float64\n"
     ]
    }
   ],
   "source": [
    "avgSpending = df.groupby(['clusters'])['Spending Score (1-100)'].mean()\n",
    "avgIncome = df.groupby(['clusters'])['Annual Income (k$)'].mean()\n",
    "print('Les moyennes Depenses/Revenus par cluster: '+str(avgSpending/avgIncome))"
   ]
  },
  {
   "cell_type": "markdown",
   "id": "d6eb6f36-a15f-4e2c-b12c-8bd175b8680c",
   "metadata": {},
   "source": [
    "On peut donc cibler ces individus de manieres tres diverses. \\\n",
    "Les individus de la classe 2 sont tres interessants du point de vue marketing. En ciblant au mieux leurs envies, on peut augmenter leurs depenses. Le potentiel de ce cluster est tres eleve. \\\n",
    "Pour le cluster 3, on voit que les individus sont les plus depensiers (relativement a leurs revenus annuels). "
   ]
  },
  {
   "cell_type": "markdown",
   "id": "dc2cc381-ddec-42a4-8622-e848ead423e3",
   "metadata": {},
   "source": [
    "# Conclusion"
   ]
  },
  {
   "cell_type": "markdown",
   "id": "dd6b37c7-5127-4ecc-b9b9-26d0e0513f41",
   "metadata": {},
   "source": [
    "La classe 0 semble representer les jeunes adultes a hauts revenus. Ils ont un fort pouvoir d'achat et depensent en consequence. \\\n",
    "La classe 1 rassemble les clients qui depensent a hauteur de leurs revenus moyens. \\\n",
    "La classe 2 represente les individus avec un fort pouvoir d'achat mais qui ont un faible Score de depense. C'est le cluster avec le plus gros potentiel de progression dans les ventes. \\\n",
    "La classe 3 rassemble surtout des femmes. Les individus de ce groupe ont les plus gros scores de depense compare a leurs revenus annuels. "
   ]
  }
 ],
 "metadata": {
  "kernelspec": {
   "display_name": "Python 3 (ipykernel)",
   "language": "python",
   "name": "python3"
  },
  "language_info": {
   "codemirror_mode": {
    "name": "ipython",
    "version": 3
   },
   "file_extension": ".py",
   "mimetype": "text/x-python",
   "name": "python",
   "nbconvert_exporter": "python",
   "pygments_lexer": "ipython3",
   "version": "3.9.7"
  }
 },
 "nbformat": 4,
 "nbformat_minor": 5
}
